{
 "cells": [
  {
   "cell_type": "markdown",
   "metadata": {
    "colab_type": "text",
    "id": "8z3pQpRjpA-O"
   },
   "source": [
    "### 複数のsubmitファイルを平均でensemble"
   ]
  },
  {
   "cell_type": "code",
   "execution_count": 1,
   "metadata": {
    "colab": {
     "base_uri": "https://localhost:8080/",
     "height": 170
    },
    "colab_type": "code",
    "executionInfo": {
     "elapsed": 2503,
     "status": "ok",
     "timestamp": 1593332262682,
     "user": {
      "displayName": "Shogo NAKAMURA",
      "photoUrl": "",
      "userId": "08074476773781801102"
     },
     "user_tz": -540
    },
    "id": "O20tnHOUnWGO",
    "outputId": "88fde4d2-8584-4617-ee95-cc6123ddc32d"
   },
   "outputs": [],
   "source": [
    "###-- Google Driveに同期 --###\n",
    "from google.colab import drive\n",
    "drive.mount('/content/drive')"
   ]
  },
  {
   "cell_type": "code",
   "execution_count": 3,
   "metadata": {
    "colab": {},
    "colab_type": "code",
    "executionInfo": {
     "elapsed": 539,
     "status": "ok",
     "timestamp": 1593332405789,
     "user": {
      "displayName": "Shogo NAKAMURA",
      "photoUrl": "",
      "userId": "08074476773781801102"
     },
     "user_tz": -540
    },
    "id": "OkZPpZAAnWGb"
   },
   "outputs": [],
   "source": [
    "###------------------------------###\n",
    "###           入力項目            ###\n",
    "###------------------------------###\n",
    "##-- CSVファイル名（訓練データ、テストデータ）\n",
    "submit_1 = \"submission_ensemble_LightGBM.csv\"\n",
    "submit_2 = \"submission_ensemble_XGBoost.csv\"\n",
    "submit_3 = \"submission_ensemble_RandomForest.csv\"\n",
    "\n",
    "##-- subissionファイルの数\n",
    "num_submit = 3\n",
    "\n",
    "##-- Data Submit\n",
    "PATH_submit = \"drive/My Drive/submit/\""
   ]
  },
  {
   "cell_type": "code",
   "execution_count": 2,
   "metadata": {
    "colab": {
     "base_uri": "https://localhost:8080/",
     "height": 71
    },
    "colab_type": "code",
    "executionInfo": {
     "elapsed": 2640,
     "status": "ok",
     "timestamp": 1593332410219,
     "user": {
      "displayName": "Shogo NAKAMURA",
      "photoUrl": "",
      "userId": "08074476773781801102"
     },
     "user_tz": -540
    },
    "id": "PSngR_OfnWGe",
    "outputId": "631c3dd0-b1c8-4291-fdda-a01a624980aa"
   },
   "outputs": [],
   "source": [
    "###-------------------------------------------###\n",
    "###        必要なライブラリの読み込み             ###\n",
    "###-------------------------------------------###\n",
    "##-- Pandas(CSVファイルの読み込み/処理)\n",
    "import pandas as pd\n",
    "from pandas import Series, DataFrame\n",
    "pd.set_option('max_columns', 300)\n",
    "pd.set_option('display.max_columns', 300)\n",
    "pd.set_option('max_rows', 300)\n",
    "pd.set_option('display.max_rows', 300)\n",
    "##-- Numpy(数値計算用の配列)\n",
    "import numpy as np\n",
    "##-- Matplotlib(グラフの描画)\n",
    "import matplotlib.pylab as plt\n",
    "import matplotlib.cm as cm # グラデーション\n",
    "import seaborn as sns\n",
    "##-- Scikit-learn(重回帰処理)\n",
    "import sklearn  #-- print(sklearn.__version__)\n",
    "\n",
    "##-- Warning非表示\n",
    "import warnings\n",
    "warnings.filterwarnings('ignore')\n",
    "\n",
    "plt.style.use('bmh')\n",
    "from itertools import cycle\n",
    "color_cycle = cycle(plt.rcParams['axes.prop_cycle'].by_key()['color'])"
   ]
  },
  {
   "cell_type": "code",
   "execution_count": 3,
   "metadata": {
    "colab": {
     "base_uri": "https://localhost:8080/",
     "height": 204
    },
    "colab_type": "code",
    "executionInfo": {
     "elapsed": 582,
     "status": "ok",
     "timestamp": 1593332441984,
     "user": {
      "displayName": "Shogo NAKAMURA",
      "photoUrl": "",
      "userId": "08074476773781801102"
     },
     "user_tz": -540
    },
    "id": "zIW_GdoknWGi",
    "outputId": "76e82d97-d134-40dd-dc9f-45143f296632"
   },
   "outputs": [],
   "source": [
    "###---------------------------------------------###\n",
    "###        CSVファイルからプロセスを読み込む         ###\n",
    "###---------------------------------------------###\n",
    "f_1 = pd.read_csv(PATH_submit+\"/\"+submit_1, encoding=\"utf-8\")\n",
    "f_2 = pd.read_csv(PATH_submit+\"/\"+submit_2, encoding=\"utf-8\")\n",
    "f_3 = pd.read_csv(PATH_submit+\"/\"+submit_3, encoding=\"utf-8\")"
   ]
  },
  {
   "cell_type": "code",
   "execution_count": 7,
   "metadata": {
    "colab": {},
    "colab_type": "code",
    "executionInfo": {
     "elapsed": 531,
     "status": "ok",
     "timestamp": 1593332467138,
     "user": {
      "displayName": "Shogo NAKAMURA",
      "photoUrl": "",
      "userId": "08074476773781801102"
     },
     "user_tz": -540
    },
    "id": "r9zeNRwHnWH5"
   },
   "outputs": [],
   "source": [
    "###------------------------------------###\n",
    "###        結果ファイルへの書き出し        ###\n",
    "###------------------------------------###\n",
    "from pathlib import Path\n",
    "root = Path(PATH_submit)\n",
    "\n",
    "##-- Prediction for test data\n",
    "Y_submit = (f_1[\"y\"] + f_2[\"y\"] + f_3[\"y\"]) / num_submit\n",
    "\n",
    "submit = pd.DataFrame({'y': Y_submit})\n",
    "submit.index.name = 'id'\n",
    "submit.index = submit.index + 1\n",
    "submit.to_csv(root.joinpath(\"submission_ensemble.csv\"), index=True)"
   ]
  }
 ],
 "metadata": {
  "colab": {
   "collapsed_sections": [],
   "name": "ensemble_submit.ipynb",
   "provenance": []
  },
  "kernelspec": {
   "display_name": "Python 3",
   "language": "python",
   "name": "python3"
  },
  "language_info": {
   "codemirror_mode": {
    "name": "ipython",
    "version": 3
   },
   "file_extension": ".py",
   "mimetype": "text/x-python",
   "name": "python",
   "nbconvert_exporter": "python",
   "pygments_lexer": "ipython3",
   "version": "3.6.7"
  }
 },
 "nbformat": 4,
 "nbformat_minor": 1
}
